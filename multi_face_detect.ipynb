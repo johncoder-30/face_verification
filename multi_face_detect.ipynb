{
 "cells": [
  {
   "cell_type": "code",
   "execution_count": 1,
   "metadata": {},
   "outputs": [],
   "source": [
    "from facenet_pytorch import MTCNN,InceptionResnetV1\n",
    "import cv2\n",
    "from torch.nn import CosineSimilarity\n",
    "import os\n",
    "from PIL import Image\n",
    "import numpy as np"
   ]
  },
  {
   "cell_type": "markdown",
   "metadata": {},
   "source": [
    "Testing for a image"
   ]
  },
  {
   "cell_type": "code",
   "execution_count": 2,
   "metadata": {},
   "outputs": [
    {
     "name": "stderr",
     "output_type": "stream",
     "text": [
      "c:\\Users\\John\\anaconda3\\envs\\pytorch_gpu\\lib\\site-packages\\torch\\nn\\functional.py:780: UserWarning: Note that order of the arguments: ceil_mode and return_indices will changeto match the args list in nn.MaxPool2d in a future release.\n",
      "  warnings.warn(\"Note that order of the arguments: ceil_mode and return_indices will change\"\n"
     ]
    },
    {
     "name": "stdout",
     "output_type": "stream",
     "text": [
      "torch.Size([1, 512])\n"
     ]
    }
   ],
   "source": [
    "# img = cv2.cvtColor(cv2.imread(\"hand_61.png\"), cv2.COLOR_BGR2RGB)\n",
    "img=Image.open('hand_61.png')\n",
    "mtcnn = MTCNN(keep_all=True)\n",
    "img_cropped=mtcnn(img)\n",
    "# print(img_cropped.shape)\n",
    "resnet=InceptionResnetV1(pretrained='vggface2').eval()\n",
    "img_embedding=resnet(img_cropped)\n",
    "print(img_embedding.shape)\n",
    "cos=CosineSimilarity()\n"
   ]
  },
  {
   "cell_type": "markdown",
   "metadata": {},
   "source": [
    "Creating embedding for all the faces"
   ]
  },
  {
   "cell_type": "code",
   "execution_count": 22,
   "metadata": {},
   "outputs": [
    {
     "name": "stderr",
     "output_type": "stream",
     "text": [
      "c:\\Users\\John\\anaconda3\\envs\\pytorch_gpu\\lib\\site-packages\\torch\\nn\\functional.py:780: UserWarning: Note that order of the arguments: ceil_mode and return_indices will changeto match the args list in nn.MaxPool2d in a future release.\n",
      "  warnings.warn(\"Note that order of the arguments: ceil_mode and return_indices will change\"\n"
     ]
    },
    {
     "name": "stdout",
     "output_type": "stream",
     "text": [
      "['deepak.jpg', 'John.jpg']\n",
      "torch.Size([1, 512])\n"
     ]
    }
   ],
   "source": [
    "names=os.listdir('./faces')\n",
    "face_embeddings=[]\n",
    "for i in names:\n",
    "    img=Image.open(f'./faces/{i}')\n",
    "    img_cropped=mtcnn(img)\n",
    "    img_embedding=resnet(img_cropped)\n",
    "    # print(img_embedding.shape)\n",
    "    face_embeddings.append(img_embedding)\n",
    "print(names)\n",
    "print(face_embeddings[0].shape)"
   ]
  },
  {
   "cell_type": "markdown",
   "metadata": {},
   "source": [
    "Real-time processing"
   ]
  },
  {
   "cell_type": "code",
   "execution_count": null,
   "metadata": {},
   "outputs": [],
   "source": [
    "cap = cv2.VideoCapture(0)\n",
    "while True:\n",
    "    ret, frame = cap.read()\n",
    "    # frame=cv2.cvtColor(frame, cv2.COLOR_BGR2RGB)\n",
    "    try:\n",
    "        boxes = mtcnn.detect(frame)[0]\n",
    "        for box in boxes:\n",
    "            box = list(map(int, box))\n",
    "            cv2.rectangle(frame, (box[0], box[1]), (box[2], box[3]), color=(255, 0, 0), thickness=2)\n",
    "            vids_crop=mtcnn(frame)\n",
    "            \n",
    "            # print(vids_crop.shape)\n",
    "            for vid_crop in vids_crop:\n",
    "                vid_embedding=resnet(vid_crop.unsqueeze(0))\n",
    "                res=[]\n",
    "                for face_embed in face_embeddings:\n",
    "                    print(face_embed.shape,vid_embedding.shape)\n",
    "                    similarity=cos(vid_embedding,face_embed)\n",
    "                    res.append(similarity.detach().numpy())\n",
    "                res=np.array(res)\n",
    "                res_ind=res.argmax(0)\n",
    "    except TypeError:\n",
    "        pass\n",
    "    except AttributeError:\n",
    "        pass\n",
    "    cv2.imshow('face_detected', frame)\n",
    "    \n",
    "    if cv2.waitKey(1) & 0xFF == ord('q'):\n",
    "        break\n",
    "cap.release()\n",
    "cv2.destroyAllWindows()\n"
   ]
  }
 ],
 "metadata": {
  "kernelspec": {
   "display_name": "Python 3.9.12 ('pytorch_gpu')",
   "language": "python",
   "name": "python3"
  },
  "language_info": {
   "codemirror_mode": {
    "name": "ipython",
    "version": 3
   },
   "file_extension": ".py",
   "mimetype": "text/x-python",
   "name": "python",
   "nbconvert_exporter": "python",
   "pygments_lexer": "ipython3",
   "version": "3.9.12"
  },
  "orig_nbformat": 4,
  "vscode": {
   "interpreter": {
    "hash": "7b57cbe78fda32f2c984a83a6d519289554683c0446b0b76f1107a21b9bb4ebe"
   }
  }
 },
 "nbformat": 4,
 "nbformat_minor": 2
}
